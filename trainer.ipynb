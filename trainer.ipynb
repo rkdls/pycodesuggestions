{
 "cells": [
  {
   "cell_type": "markdown",
   "metadata": {
    "collapsed": true
   },
   "source": [
    "### statically-typed language : java,C, C++\n",
    " 컴파일시에 에러가 검출된다. 타입구분이 명확한것들을 정적타입 랭귀지 라함.\n",
    " \n",
    "### dynamic-typed language : python, javascript, Ruby... \n",
    " 인터프리터 언어라고도한다. 타입에 딱히 신경쓰지않아도 개발이가능하며 개발속도 기본적으로 빠르다.\n",
    " \n",
    "IDE에서 statical language 는 코드 suggestion이 잘 적용되지만, python같은 dynamic language 는 지원이 상대적으로 부족하다."
   ]
  },
  {
   "cell_type": "code",
   "execution_count": 1,
   "metadata": {
    "collapsed": true
   },
   "outputs": [],
   "source": [
    "import tensorflow as tf\n",
    "import pickle\n",
    "import os\n",
    "import shutil\n",
    "import tempfile\n",
    "import datetime\n",
    "import time\n",
    "from glob import iglob\n",
    "import time\n",
    "# import attention\n",
    "from collections import deque\n",
    "import pickle\n",
    "import pyreader\n",
    "import numpy as np\n",
    "from attention import Batcher, construct_feed_dict, extract_results, get_evals,AttentionModel,get_initial_state"
   ]
  },
  {
   "cell_type": "code",
   "execution_count": 2,
   "metadata": {
    "collapsed": true
   },
   "outputs": [],
   "source": [
    "data= 'data_samples/'\n",
    "data_path='data_samples/mapping.map'\n",
    "# pattern = 'preprocess.part*'\n",
    "pattern = 'output.txt.part*'\n",
    "hidden_size = 50\n",
    "seq_length = 10\n",
    "batch_size = 16\n",
    "epochs=10\n",
    "with open(data_path, \"rb\") as f:\n",
    "    word_to_id = pickle.load(f)\n",
    "vocab_size = len(word_to_id)\n",
    "num_samples = 100\n",
    "attention_num=5\n",
    "max_attention=10\n",
    "lambda_type='state'\n",
    "keep_prob=0.9\n",
    "num_layer=1\n",
    "max_grad_norm=3\n",
    "learning_rate = 1.0\n",
    "# files = [y for x in os.walk(data) for y in iglob(os.path.join(x[0], pattern))]"
   ]
  },
  {
   "cell_type": "markdown",
   "metadata": {},
   "source": [
    "### 전처리를 다음과같이 한다.\n",
    "\n",
    "#### 변수명:번호 인데 아래와 같이 나온다."
   ]
  },
  {
   "cell_type": "code",
   "execution_count": 3,
   "metadata": {},
   "outputs": [
    {
     "name": "stdout",
     "output_type": "stream",
     "text": [
      "./data_samples/output.txt.part0\n",
      "2882\n"
     ]
    }
   ],
   "source": [
    "current_file = './data_samples/output.txt.part0'\n",
    "with open(current_file, 'rb') as f:\n",
    "    current_data = pickle.load(f)\n",
    "    print(current_file)\n",
    "    print(len(current_data))"
   ]
  },
  {
   "cell_type": "code",
   "execution_count": 4,
   "metadata": {},
   "outputs": [
    {
     "data": {
      "text/plain": [
       "array([2, 0, 0, 0, 0, 0, 0, 0, 0, 0], dtype=int64)"
      ]
     },
     "execution_count": 4,
     "metadata": {},
     "output_type": "execute_result"
    }
   ],
   "source": [
    "current_data[1].inputs[0]"
   ]
  },
  {
   "cell_type": "code",
   "execution_count": 5,
   "metadata": {
    "scrolled": true
   },
   "outputs": [
    {
     "data": {
      "text/plain": [
       "[0]"
      ]
     },
     "execution_count": 5,
     "metadata": {},
     "output_type": "execute_result"
    }
   ],
   "source": [
    "current_data[1].actual_lengths"
   ]
  },
  {
   "cell_type": "markdown",
   "metadata": {},
   "source": [
    "### 예를들어 파일한개를 돌려보면.."
   ]
  },
  {
   "cell_type": "code",
   "execution_count": 6,
   "metadata": {},
   "outputs": [
    {
     "data": {
      "text/plain": [
       "'§<indent>§'"
      ]
     },
     "execution_count": 6,
     "metadata": {},
     "output_type": "execute_result"
    }
   ],
   "source": [
    "inv_map = {v: k for k, v in word_to_id.items()} # 아이디값:변수명 으로 reverse시킴.\n",
    "inv_map[38]\n",
    "inv_map[10]"
   ]
  },
  {
   "cell_type": "code",
   "execution_count": 7,
   "metadata": {},
   "outputs": [
    {
     "name": "stdout",
     "output_type": "stream",
     "text": [
      "import datetime \n",
      " import json \n",
      " import os \n",
      " import\n",
      "23 ==\n"
     ]
    }
   ],
   "source": [
    "\n",
    "for i in range(len(current_data)):\n",
    "    inputs_raw = [inv_map[k] for k in current_data[i].inputs[0]]\n",
    "#     inputs_raw = [inv_map[k] for k in current_data[i].identifier_usage[0]]\n",
    "#     inputs_raw = [k for k in current_data[i].masks]\n",
    "    if len(current_data[i].actual_lengths) ==1:\n",
    "        continue # sequence가1인부분은 쓰레기데이터가많아서 그냥 넘김.\n",
    "    inputs_raw= ' '.join(inputs_raw)\n",
    "    targets_raw = [inv_map[k] for k in current_data[i].targets[0]]\n",
    "    targets_raws = ' '.join(targets_raw)\n",
    "print(inputs_raw)\n",
    "print(word_to_id['class'],inv_map[56])"
   ]
  },
  {
   "cell_type": "markdown",
   "metadata": {},
   "source": [
    "### 위와같이 normalise + indent와 패딩, out of vocabulary의 값들이  나온다.\n",
    "\n",
    "### 실제로 집어넣을 값들은 숫자로 feeding한다."
   ]
  },
  {
   "cell_type": "code",
   "execution_count": 8,
   "metadata": {},
   "outputs": [
    {
     "data": {
      "text/plain": [
       "array([ 20,  37,   2,  20, 325,   2,  20,  59,   2,  20], dtype=int64)"
      ]
     },
     "execution_count": 8,
     "metadata": {},
     "output_type": "execute_result"
    }
   ],
   "source": [
    "current_data[i].inputs[0]"
   ]
  },
  {
   "cell_type": "markdown",
   "metadata": {},
   "source": [
    "### 위와같이 넣게되어있다."
   ]
  },
  {
   "cell_type": "code",
   "execution_count": 9,
   "metadata": {
    "scrolled": false
   },
   "outputs": [
    {
     "name": "stdout",
     "output_type": "stream",
     "text": [
      "Constructing Attention Cell\n",
      "Loaded data partition ./data_samples/output.txt.part0 with 2882 examples\n",
      "perplexity  3.15074442624 epoch  0   772.3158328533173\n",
      "Loaded data partition ./data_samples/output.txt.part0 with 2882 examples\n",
      "perplexity  2.68853505684 epoch  1   1426.0145151615143\n",
      "Loaded data partition ./data_samples/output.txt.part0 with 2882 examples\n",
      "perplexity  2.60316939714 epoch  2   1292.0640280246735\n",
      "Loaded data partition ./data_samples/output.txt.part0 with 2882 examples\n",
      "perplexity  2.56120775918 epoch  3   1278.0974009037018\n",
      "Loaded data partition ./data_samples/output.txt.part0 with 2882 examples\n",
      "perplexity  2.5325778637 epoch  4   1332.7034485340118\n",
      "Loaded data partition ./data_samples/output.txt.part0 with 2882 examples\n",
      "perplexity  2.54578190177 epoch  5   1242.2920010089874\n",
      "Loaded data partition ./data_samples/output.txt.part0 with 2882 examples\n",
      "perplexity  2.53952746214 epoch  6   1244.997000694275\n",
      "Loaded data partition ./data_samples/output.txt.part0 with 2882 examples\n",
      "perplexity  2.56866824474 epoch  7   1248.4120025634766\n"
     ]
    },
    {
     "ename": "KeyboardInterrupt",
     "evalue": "",
     "output_type": "error",
     "traceback": [
      "\u001b[1;31m---------------------------------------------------------------------------\u001b[0m",
      "\u001b[1;31mKeyboardInterrupt\u001b[0m                         Traceback (most recent call last)",
      "\u001b[1;32m<ipython-input-9-6e092ab88e9f>\u001b[0m in \u001b[0;36m<module>\u001b[1;34m()\u001b[0m\n\u001b[0;32m     39\u001b[0m \u001b[1;33m\u001b[0m\u001b[0m\n\u001b[0;32m     40\u001b[0m                 \u001b[0mfeed_dict\u001b[0m\u001b[1;33m,\u001b[0m \u001b[0midentifiers_usage\u001b[0m \u001b[1;33m=\u001b[0m \u001b[0mconstruct_feed_dict\u001b[0m\u001b[1;33m(\u001b[0m\u001b[0ma\u001b[0m\u001b[1;33m,\u001b[0m \u001b[0mfeed_data\u001b[0m\u001b[1;33m,\u001b[0m \u001b[0mstate\u001b[0m\u001b[1;33m,\u001b[0m \u001b[0matt_states\u001b[0m\u001b[1;33m,\u001b[0m \u001b[0matt_ids\u001b[0m\u001b[1;33m,\u001b[0m \u001b[0matt_counts\u001b[0m\u001b[1;33m)\u001b[0m\u001b[1;33m\u001b[0m\u001b[0m\n\u001b[1;32m---> 41\u001b[1;33m                 \u001b[0mresults\u001b[0m \u001b[1;33m=\u001b[0m \u001b[0msession\u001b[0m\u001b[1;33m.\u001b[0m\u001b[0mrun\u001b[0m\u001b[1;33m(\u001b[0m\u001b[0mevals\u001b[0m\u001b[1;33m,\u001b[0m \u001b[0mfeed_dict\u001b[0m\u001b[1;33m=\u001b[0m \u001b[0mfeed_dict\u001b[0m\u001b[1;33m)\u001b[0m\u001b[1;33m\u001b[0m\u001b[0m\n\u001b[0m\u001b[0;32m     42\u001b[0m \u001b[1;33m\u001b[0m\u001b[0m\n\u001b[0;32m     43\u001b[0m                 \u001b[0mresults\u001b[0m\u001b[1;33m,\u001b[0m \u001b[0mstate\u001b[0m\u001b[1;33m,\u001b[0m \u001b[0matt_states\u001b[0m\u001b[1;33m,\u001b[0m \u001b[0matt_ids\u001b[0m\u001b[1;33m,\u001b[0m \u001b[0malpha_states\u001b[0m\u001b[1;33m,\u001b[0m \u001b[0matt_counts\u001b[0m\u001b[1;33m,\u001b[0m \u001b[0mlambda_state\u001b[0m\u001b[1;33m=\u001b[0m \u001b[0mextract_results\u001b[0m\u001b[1;33m(\u001b[0m\u001b[0mresults\u001b[0m\u001b[1;33m,\u001b[0m\u001b[0mevals\u001b[0m\u001b[1;33m,\u001b[0m \u001b[1;36m2\u001b[0m\u001b[1;33m,\u001b[0m\u001b[0ma\u001b[0m\u001b[1;33m)\u001b[0m\u001b[1;33m\u001b[0m\u001b[0m\n",
      "\u001b[1;32mD:\\anaconda_python\\lib\\site-packages\\tensorflow\\python\\client\\session.py\u001b[0m in \u001b[0;36mrun\u001b[1;34m(self, fetches, feed_dict, options, run_metadata)\u001b[0m\n\u001b[0;32m    787\u001b[0m     \u001b[1;32mtry\u001b[0m\u001b[1;33m:\u001b[0m\u001b[1;33m\u001b[0m\u001b[0m\n\u001b[0;32m    788\u001b[0m       result = self._run(None, fetches, feed_dict, options_ptr,\n\u001b[1;32m--> 789\u001b[1;33m                          run_metadata_ptr)\n\u001b[0m\u001b[0;32m    790\u001b[0m       \u001b[1;32mif\u001b[0m \u001b[0mrun_metadata\u001b[0m\u001b[1;33m:\u001b[0m\u001b[1;33m\u001b[0m\u001b[0m\n\u001b[0;32m    791\u001b[0m         \u001b[0mproto_data\u001b[0m \u001b[1;33m=\u001b[0m \u001b[0mtf_session\u001b[0m\u001b[1;33m.\u001b[0m\u001b[0mTF_GetBuffer\u001b[0m\u001b[1;33m(\u001b[0m\u001b[0mrun_metadata_ptr\u001b[0m\u001b[1;33m)\u001b[0m\u001b[1;33m\u001b[0m\u001b[0m\n",
      "\u001b[1;32mD:\\anaconda_python\\lib\\site-packages\\tensorflow\\python\\client\\session.py\u001b[0m in \u001b[0;36m_run\u001b[1;34m(self, handle, fetches, feed_dict, options, run_metadata)\u001b[0m\n\u001b[0;32m    995\u001b[0m     \u001b[1;32mif\u001b[0m \u001b[0mfinal_fetches\u001b[0m \u001b[1;32mor\u001b[0m \u001b[0mfinal_targets\u001b[0m\u001b[1;33m:\u001b[0m\u001b[1;33m\u001b[0m\u001b[0m\n\u001b[0;32m    996\u001b[0m       results = self._do_run(handle, final_targets, final_fetches,\n\u001b[1;32m--> 997\u001b[1;33m                              feed_dict_string, options, run_metadata)\n\u001b[0m\u001b[0;32m    998\u001b[0m     \u001b[1;32melse\u001b[0m\u001b[1;33m:\u001b[0m\u001b[1;33m\u001b[0m\u001b[0m\n\u001b[0;32m    999\u001b[0m       \u001b[0mresults\u001b[0m \u001b[1;33m=\u001b[0m \u001b[1;33m[\u001b[0m\u001b[1;33m]\u001b[0m\u001b[1;33m\u001b[0m\u001b[0m\n",
      "\u001b[1;32mD:\\anaconda_python\\lib\\site-packages\\tensorflow\\python\\client\\session.py\u001b[0m in \u001b[0;36m_do_run\u001b[1;34m(self, handle, target_list, fetch_list, feed_dict, options, run_metadata)\u001b[0m\n\u001b[0;32m   1130\u001b[0m     \u001b[1;32mif\u001b[0m \u001b[0mhandle\u001b[0m \u001b[1;32mis\u001b[0m \u001b[1;32mNone\u001b[0m\u001b[1;33m:\u001b[0m\u001b[1;33m\u001b[0m\u001b[0m\n\u001b[0;32m   1131\u001b[0m       return self._do_call(_run_fn, self._session, feed_dict, fetch_list,\n\u001b[1;32m-> 1132\u001b[1;33m                            target_list, options, run_metadata)\n\u001b[0m\u001b[0;32m   1133\u001b[0m     \u001b[1;32melse\u001b[0m\u001b[1;33m:\u001b[0m\u001b[1;33m\u001b[0m\u001b[0m\n\u001b[0;32m   1134\u001b[0m       return self._do_call(_prun_fn, self._session, handle, feed_dict,\n",
      "\u001b[1;32mD:\\anaconda_python\\lib\\site-packages\\tensorflow\\python\\client\\session.py\u001b[0m in \u001b[0;36m_do_call\u001b[1;34m(self, fn, *args)\u001b[0m\n\u001b[0;32m   1137\u001b[0m   \u001b[1;32mdef\u001b[0m \u001b[0m_do_call\u001b[0m\u001b[1;33m(\u001b[0m\u001b[0mself\u001b[0m\u001b[1;33m,\u001b[0m \u001b[0mfn\u001b[0m\u001b[1;33m,\u001b[0m \u001b[1;33m*\u001b[0m\u001b[0margs\u001b[0m\u001b[1;33m)\u001b[0m\u001b[1;33m:\u001b[0m\u001b[1;33m\u001b[0m\u001b[0m\n\u001b[0;32m   1138\u001b[0m     \u001b[1;32mtry\u001b[0m\u001b[1;33m:\u001b[0m\u001b[1;33m\u001b[0m\u001b[0m\n\u001b[1;32m-> 1139\u001b[1;33m       \u001b[1;32mreturn\u001b[0m \u001b[0mfn\u001b[0m\u001b[1;33m(\u001b[0m\u001b[1;33m*\u001b[0m\u001b[0margs\u001b[0m\u001b[1;33m)\u001b[0m\u001b[1;33m\u001b[0m\u001b[0m\n\u001b[0m\u001b[0;32m   1140\u001b[0m     \u001b[1;32mexcept\u001b[0m \u001b[0merrors\u001b[0m\u001b[1;33m.\u001b[0m\u001b[0mOpError\u001b[0m \u001b[1;32mas\u001b[0m \u001b[0me\u001b[0m\u001b[1;33m:\u001b[0m\u001b[1;33m\u001b[0m\u001b[0m\n\u001b[0;32m   1141\u001b[0m       \u001b[0mmessage\u001b[0m \u001b[1;33m=\u001b[0m \u001b[0mcompat\u001b[0m\u001b[1;33m.\u001b[0m\u001b[0mas_text\u001b[0m\u001b[1;33m(\u001b[0m\u001b[0me\u001b[0m\u001b[1;33m.\u001b[0m\u001b[0mmessage\u001b[0m\u001b[1;33m)\u001b[0m\u001b[1;33m\u001b[0m\u001b[0m\n",
      "\u001b[1;32mD:\\anaconda_python\\lib\\site-packages\\tensorflow\\python\\client\\session.py\u001b[0m in \u001b[0;36m_run_fn\u001b[1;34m(session, feed_dict, fetch_list, target_list, options, run_metadata)\u001b[0m\n\u001b[0;32m   1119\u001b[0m         return tf_session.TF_Run(session, options,\n\u001b[0;32m   1120\u001b[0m                                  \u001b[0mfeed_dict\u001b[0m\u001b[1;33m,\u001b[0m \u001b[0mfetch_list\u001b[0m\u001b[1;33m,\u001b[0m \u001b[0mtarget_list\u001b[0m\u001b[1;33m,\u001b[0m\u001b[1;33m\u001b[0m\u001b[0m\n\u001b[1;32m-> 1121\u001b[1;33m                                  status, run_metadata)\n\u001b[0m\u001b[0;32m   1122\u001b[0m \u001b[1;33m\u001b[0m\u001b[0m\n\u001b[0;32m   1123\u001b[0m     \u001b[1;32mdef\u001b[0m \u001b[0m_prun_fn\u001b[0m\u001b[1;33m(\u001b[0m\u001b[0msession\u001b[0m\u001b[1;33m,\u001b[0m \u001b[0mhandle\u001b[0m\u001b[1;33m,\u001b[0m \u001b[0mfeed_dict\u001b[0m\u001b[1;33m,\u001b[0m \u001b[0mfetch_list\u001b[0m\u001b[1;33m)\u001b[0m\u001b[1;33m:\u001b[0m\u001b[1;33m\u001b[0m\u001b[0m\n",
      "\u001b[1;31mKeyboardInterrupt\u001b[0m: "
     ]
    }
   ],
   "source": [
    "with tf.Graph().as_default(), tf.Session() as session:\n",
    "    masks_ = tf.placeholder(tf.bool, [seq_length, batch_size, attention_num], name=\"masks\")\n",
    "    input_data_ = tf.placeholder(tf.int32, [seq_length, batch_size], name=\"inputs\")\n",
    "    targets_ = tf.placeholder(tf.float32, [seq_length, batch_size], name=\"targets\")\n",
    "    \n",
    "    a = AttentionModel(input_data=input_data_,\n",
    "                                 targets=targets_,\n",
    "                                 masks=masks_,\n",
    "                                 is_training=True,\n",
    "                                 attention_num= attention_num,\n",
    "                                 batch_size=batch_size,\n",
    "                                 hidden_size=hidden_size,\n",
    "                                 num_samples=num_samples,\n",
    "                                 seq_length=seq_length,\n",
    "                                 vocab_size=vocab_size,\n",
    "                                 lambda_type=lambda_type,\n",
    "                                 max_attention=max_attention)\n",
    "    \n",
    "    session.run(tf.global_variables_initializer())\n",
    "    loss = a.loss\n",
    "    train = a.train_op \n",
    "    evals = [loss, train]\n",
    "    evals = get_evals(evals=evals, model=a)\n",
    "    state, att_states, att_ids, att_counts = get_initial_state(a, session)\n",
    "    lr = learning_rate\n",
    "    a.assign_lr(session, lr)\n",
    "    saver = tf.train.Saver(tf.trainable_variables())\n",
    "#     saver.restore(session, './model/2017-07-04--13-06--217855/model.tf')\n",
    "    batcher = Batcher([current_file], batch_size, seq_length)\n",
    "    \n",
    "    for epoch in range(epochs):\n",
    "        start_epoch_time = time.time()\n",
    "        for batch in batcher:\n",
    "            \n",
    "            total_loss = 0\n",
    "            total_length = 0\n",
    "                \n",
    "            for feed_data in batcher.sequence_iterator(batch):\n",
    "\n",
    "                feed_dict, identifiers_usage = construct_feed_dict(a, feed_data, state, att_states, att_ids, att_counts)\n",
    "                results = session.run(evals, feed_dict= feed_dict)\n",
    "\n",
    "                results, state, att_states, att_ids, alpha_states, att_counts, lambda_state= extract_results(results,evals, 2,a)\n",
    "                \n",
    "                total_loss += sum(results[0])\n",
    "                total_length += sum(feed_dict[a._actual_lengths])\n",
    "        end_epoch_time = time.time()\n",
    "        print('perplexity ', np.exp(total_loss/total_length), 'epoch ', epoch, ' time: ',end_epoch_time-start_epoch_time)\n",
    "        print('time = ', datetime.datetime.now().strftime(\"%Y-%m-%d--%H-%M--%f\"))\n",
    "        \n",
    "        now = datetime.datetime.now().strftime(\"%Y-%m-%d--%H-%M--%f\")\n",
    "        model_path = './model'\n",
    "        out_path = os.path.join(model_path, now + \"/\")\n",
    "        saver.save(session, os.path.join(out_path, \"model.tf\"))"
   ]
  }
 ],
 "metadata": {
  "anaconda-cloud": {},
  "kernelspec": {
   "display_name": "Python [default]",
   "language": "python",
   "name": "python3"
  },
  "language_info": {
   "codemirror_mode": {
    "name": "ipython",
    "version": 3
   },
   "file_extension": ".py",
   "mimetype": "text/x-python",
   "name": "python",
   "nbconvert_exporter": "python",
   "pygments_lexer": "ipython3",
   "version": "3.6.1"
  }
 },
 "nbformat": 4,
 "nbformat_minor": 2
}
