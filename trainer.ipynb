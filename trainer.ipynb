{
 "cells": [
  {
   "cell_type": "markdown",
   "metadata": {
    "collapsed": true
   },
   "source": [
    "### statically-typed language : java,C, C++\n",
    " 컴파일시에 에러가 검출된다. 타입구분이 명확한것들을 정적타입 랭귀지 라함.\n",
    " \n",
    "### dynamic-typed language : python, javascript, Ruby... \n",
    " 인터프리터 언어라고도한다. 타입에 딱히 신경쓰지않아도 개발이가능하며 개발속도 기본적으로 빠르다.\n",
    " \n",
    "IDE에서 statical language 는 코드 suggestion이 잘 적용되지만, python같은 dynamic language 는 지원이 상대적으로 부족하다."
   ]
  },
  {
   "cell_type": "code",
   "execution_count": 2,
   "metadata": {
    "collapsed": true
   },
   "outputs": [],
   "source": [
    "import tensorflow as tf\n",
    "import pickle\n",
    "import os\n",
    "import shutil\n",
    "import tempfile\n",
    "import datetime\n",
    "import time\n",
    "from glob import iglob\n",
    "import time\n",
    "# import attention\n",
    "from collections import deque\n",
    "import pickle\n",
    "import pyreader\n",
    "import numpy as np\n",
    "from attention import Batcher, construct_feed_dict, extract_results, get_evals,AttentionModel,get_initial_state"
   ]
  },
  {
   "cell_type": "code",
   "execution_count": 3,
   "metadata": {},
   "outputs": [],
   "source": [
    "data= 'data_samples/'\n",
    "data_path='data_samples/mapping.map'\n",
    "# pattern = 'preprocess.part*'\n",
    "pattern = 'output.txt.part*'\n",
    "hidden_size = 50\n",
    "seq_length = 10\n",
    "batch_size = 16\n",
    "epochs=10\n",
    "with open(data_path, \"rb\") as f:\n",
    "    word_to_id = pickle.load(f)\n",
    "vocab_size = len(word_to_id)\n",
    "num_samples = 100\n",
    "attention_num=5\n",
    "max_attention=10\n",
    "lambda_type='state'\n",
    "keep_prob=0.9\n",
    "num_layer=1\n",
    "max_grad_norm=3\n",
    "learning_rate = 1.0\n",
    "# files = [y for x in os.walk(data) for y in iglob(os.path.join(x[0], pattern))]"
   ]
  },
  {
   "cell_type": "markdown",
   "metadata": {},
   "source": [
    "### 전처리를 다음과같이 한다.\n",
    "\n",
    "#### 변수명:번호 인데 아래와 같이 나온다."
   ]
  },
  {
   "cell_type": "code",
   "execution_count": 4,
   "metadata": {},
   "outputs": [
    {
     "name": "stdout",
     "output_type": "stream",
     "text": [
      "./data_samples/output.txt.part0\n",
      "2882\n"
     ]
    }
   ],
   "source": [
    "current_file = './data_samples/output.txt.part0'\n",
    "with open(current_file, 'rb') as f:\n",
    "    current_data = pickle.load(f)\n",
    "    print(current_file)\n",
    "    print(len(current_data))"
   ]
  },
  {
   "cell_type": "code",
   "execution_count": 5,
   "metadata": {},
   "outputs": [
    {
     "data": {
      "text/plain": [
       "array([2, 0, 0, 0, 0, 0, 0, 0, 0, 0], dtype=int64)"
      ]
     },
     "execution_count": 5,
     "metadata": {},
     "output_type": "execute_result"
    }
   ],
   "source": [
    "current_data[1].inputs[0]"
   ]
  },
  {
   "cell_type": "code",
   "execution_count": 6,
   "metadata": {
    "scrolled": true
   },
   "outputs": [
    {
     "data": {
      "text/plain": [
       "[0]"
      ]
     },
     "execution_count": 6,
     "metadata": {},
     "output_type": "execute_result"
    }
   ],
   "source": [
    "current_data[1].actual_lengths"
   ]
  },
  {
   "cell_type": "markdown",
   "metadata": {},
   "source": [
    "### 예를들어 파일한개를 돌려보면.."
   ]
  },
  {
   "cell_type": "code",
   "execution_count": 7,
   "metadata": {},
   "outputs": [
    {
     "data": {
      "text/plain": [
       "'§<indent>§'"
      ]
     },
     "execution_count": 7,
     "metadata": {},
     "output_type": "execute_result"
    }
   ],
   "source": [
    "inv_map = {v: k for k, v in word_to_id.items()} # 아이디값:변수명 으로 reverse시킴.\n",
    "inv_map[38]\n",
    "inv_map[10]"
   ]
  },
  {
   "cell_type": "code",
   "execution_count": 8,
   "metadata": {},
   "outputs": [
    {
     "name": "stdout",
     "output_type": "stream",
     "text": [
      "import datetime \n",
      " import json \n",
      " import os \n",
      " import\n",
      "23 ==\n"
     ]
    }
   ],
   "source": [
    "\n",
    "for i in range(len(current_data)):\n",
    "    inputs_raw = [inv_map[k] for k in current_data[i].inputs[0]]\n",
    "#     inputs_raw = [inv_map[k] for k in current_data[i].identifier_usage[0]]\n",
    "#     inputs_raw = [k for k in current_data[i].masks]\n",
    "    if len(current_data[i].actual_lengths) ==1:\n",
    "        continue # sequence가1인부분은 쓰레기데이터가많아서 그냥 넘김.\n",
    "    inputs_raw= ' '.join(inputs_raw)\n",
    "    targets_raw = [inv_map[k] for k in current_data[i].targets[0]]\n",
    "    targets_raws = ' '.join(targets_raw)\n",
    "print(inputs_raw)\n",
    "print(word_to_id['class'],inv_map[56])"
   ]
  },
  {
   "cell_type": "markdown",
   "metadata": {},
   "source": [
    "### 위와같이 normalise + indent와 패딩, out of vocabulary의 값들이  나온다.\n",
    "\n",
    "### 실제로 집어넣을 값들은 숫자로 feeding한다."
   ]
  },
  {
   "cell_type": "code",
   "execution_count": 9,
   "metadata": {},
   "outputs": [
    {
     "data": {
      "text/plain": [
       "array([ 20,  37,   2,  20, 325,   2,  20,  59,   2,  20], dtype=int64)"
      ]
     },
     "execution_count": 9,
     "metadata": {},
     "output_type": "execute_result"
    }
   ],
   "source": [
    "current_data[i].inputs[0]"
   ]
  },
  {
   "cell_type": "markdown",
   "metadata": {},
   "source": [
    "### 위와같이 넣게되어있다."
   ]
  },
  {
   "cell_type": "code",
   "execution_count": 10,
   "metadata": {
    "scrolled": false
   },
   "outputs": [
    {
     "name": "stdout",
     "output_type": "stream",
     "text": [
      "Constructing Attention Cell\n",
      "Loaded data partition ./data_samples/output.txt.part0 with 2882 examples\n",
      "perplexity  3.18228564717 epoch  0   1261.733186006546\n"
     ]
    },
    {
     "ename": "ValueError",
     "evalue": "Parent directory of ./model\\2017-07-20--17-21--142309/model.tf doesn't exist, can't save.",
     "output_type": "error",
     "traceback": [
      "\u001b[1;31m---------------------------------------------------------------------------\u001b[0m",
      "\u001b[1;31mNotFoundError\u001b[0m                             Traceback (most recent call last)",
      "\u001b[1;32mD:\\python3_5anaconda\\lib\\site-packages\\tensorflow\\python\\client\\session.py\u001b[0m in \u001b[0;36m_do_call\u001b[1;34m(self, fn, *args)\u001b[0m\n\u001b[0;32m   1138\u001b[0m     \u001b[1;32mtry\u001b[0m\u001b[1;33m:\u001b[0m\u001b[1;33m\u001b[0m\u001b[0m\n\u001b[1;32m-> 1139\u001b[1;33m       \u001b[1;32mreturn\u001b[0m \u001b[0mfn\u001b[0m\u001b[1;33m(\u001b[0m\u001b[1;33m*\u001b[0m\u001b[0margs\u001b[0m\u001b[1;33m)\u001b[0m\u001b[1;33m\u001b[0m\u001b[0m\n\u001b[0m\u001b[0;32m   1140\u001b[0m     \u001b[1;32mexcept\u001b[0m \u001b[0merrors\u001b[0m\u001b[1;33m.\u001b[0m\u001b[0mOpError\u001b[0m \u001b[1;32mas\u001b[0m \u001b[0me\u001b[0m\u001b[1;33m:\u001b[0m\u001b[1;33m\u001b[0m\u001b[0m\n",
      "\u001b[1;32mD:\\python3_5anaconda\\lib\\site-packages\\tensorflow\\python\\client\\session.py\u001b[0m in \u001b[0;36m_run_fn\u001b[1;34m(session, feed_dict, fetch_list, target_list, options, run_metadata)\u001b[0m\n\u001b[0;32m   1120\u001b[0m                                  \u001b[0mfeed_dict\u001b[0m\u001b[1;33m,\u001b[0m \u001b[0mfetch_list\u001b[0m\u001b[1;33m,\u001b[0m \u001b[0mtarget_list\u001b[0m\u001b[1;33m,\u001b[0m\u001b[1;33m\u001b[0m\u001b[0m\n\u001b[1;32m-> 1121\u001b[1;33m                                  status, run_metadata)\n\u001b[0m\u001b[0;32m   1122\u001b[0m \u001b[1;33m\u001b[0m\u001b[0m\n",
      "\u001b[1;32mD:\\python3_5anaconda\\lib\\contextlib.py\u001b[0m in \u001b[0;36m__exit__\u001b[1;34m(self, type, value, traceback)\u001b[0m\n\u001b[0;32m     88\u001b[0m             \u001b[1;32mtry\u001b[0m\u001b[1;33m:\u001b[0m\u001b[1;33m\u001b[0m\u001b[0m\n\u001b[1;32m---> 89\u001b[1;33m                 \u001b[0mnext\u001b[0m\u001b[1;33m(\u001b[0m\u001b[0mself\u001b[0m\u001b[1;33m.\u001b[0m\u001b[0mgen\u001b[0m\u001b[1;33m)\u001b[0m\u001b[1;33m\u001b[0m\u001b[0m\n\u001b[0m\u001b[0;32m     90\u001b[0m             \u001b[1;32mexcept\u001b[0m \u001b[0mStopIteration\u001b[0m\u001b[1;33m:\u001b[0m\u001b[1;33m\u001b[0m\u001b[0m\n",
      "\u001b[1;32mD:\\python3_5anaconda\\lib\\site-packages\\tensorflow\\python\\framework\\errors_impl.py\u001b[0m in \u001b[0;36mraise_exception_on_not_ok_status\u001b[1;34m()\u001b[0m\n\u001b[0;32m    465\u001b[0m           \u001b[0mcompat\u001b[0m\u001b[1;33m.\u001b[0m\u001b[0mas_text\u001b[0m\u001b[1;33m(\u001b[0m\u001b[0mpywrap_tensorflow\u001b[0m\u001b[1;33m.\u001b[0m\u001b[0mTF_Message\u001b[0m\u001b[1;33m(\u001b[0m\u001b[0mstatus\u001b[0m\u001b[1;33m)\u001b[0m\u001b[1;33m)\u001b[0m\u001b[1;33m,\u001b[0m\u001b[1;33m\u001b[0m\u001b[0m\n\u001b[1;32m--> 466\u001b[1;33m           pywrap_tensorflow.TF_GetCode(status))\n\u001b[0m\u001b[0;32m    467\u001b[0m   \u001b[1;32mfinally\u001b[0m\u001b[1;33m:\u001b[0m\u001b[1;33m\u001b[0m\u001b[0m\n",
      "\u001b[1;31mNotFoundError\u001b[0m: Failed to create a directory: ./model\\2017-07-20--17-21--142309\n\t [[Node: save/SaveV2 = SaveV2[dtypes=[DT_FLOAT, DT_FLOAT, DT_FLOAT, DT_FLOAT, DT_FLOAT, DT_FLOAT, DT_FLOAT, DT_FLOAT, DT_FLOAT, DT_FLOAT, DT_FLOAT, DT_FLOAT, DT_FLOAT, DT_FLOAT, DT_FLOAT, DT_FLOAT, DT_FLOAT, DT_FLOAT, DT_FLOAT, DT_FLOAT, DT_FLOAT, DT_FLOAT, DT_FLOAT, DT_FLOAT, DT_FLOAT, DT_FLOAT, DT_FLOAT, DT_FLOAT, DT_FLOAT, DT_FLOAT, DT_FLOAT, DT_FLOAT, DT_FLOAT, DT_FLOAT, DT_FLOAT, DT_FLOAT, DT_FLOAT, DT_FLOAT, DT_FLOAT, DT_FLOAT, DT_FLOAT, DT_FLOAT, DT_FLOAT, DT_FLOAT], _device=\"/job:localhost/replica:0/task:0/cpu:0\"](_arg_save/Const_0_0, save/SaveV2/tensor_names, save/SaveV2/shape_and_slices, RNN/AttentionCell/Attention0/fully_connected/biases, RNN/AttentionCell/Attention0/fully_connected/weights, RNN/AttentionCell/Attention0/fully_connected_1/biases, RNN/AttentionCell/Attention0/fully_connected_1/weights, RNN/AttentionCell/Attention0/fully_connected_2/biases, RNN/AttentionCell/Attention0/fully_connected_2/weights, RNN/AttentionCell/Attention0/w, RNN/AttentionCell/Attention1/fully_connected/biases, RNN/AttentionCell/Attention1/fully_connected/weights, RNN/AttentionCell/Attention1/fully_connected_1/biases, RNN/AttentionCell/Attention1/fully_connected_1/weights, RNN/AttentionCell/Attention1/fully_connected_2/biases, RNN/AttentionCell/Attention1/fully_connected_2/weights, RNN/AttentionCell/Attention1/w, RNN/AttentionCell/Attention2/fully_connected/biases, RNN/AttentionCell/Attention2/fully_connected/weights, RNN/AttentionCell/Attention2/fully_connected_1/biases, RNN/AttentionCell/Attention2/fully_connected_1/weights, RNN/AttentionCell/Attention2/fully_connected_2/biases, RNN/AttentionCell/Attention2/fully_connected_2/weights, RNN/AttentionCell/Attention2/w, RNN/AttentionCell/Attention3/fully_connected/biases, RNN/AttentionCell/Attention3/fully_connected/weights, RNN/AttentionCell/Attention3/fully_connected_1/biases, RNN/AttentionCell/Attention3/fully_connected_1/weights, RNN/AttentionCell/Attention3/fully_connected_2/biases, RNN/AttentionCell/Attention3/fully_connected_2/weights, RNN/AttentionCell/Attention3/w, RNN/AttentionCell/Attention4/fully_connected/biases, RNN/AttentionCell/Attention4/fully_connected/weights, RNN/AttentionCell/Attention4/fully_connected_1/biases, RNN/AttentionCell/Attention4/fully_connected_1/weights, RNN/AttentionCell/Attention4/fully_connected_2/biases, RNN/AttentionCell/Attention4/fully_connected_2/weights, RNN/AttentionCell/Attention4/w, RNN/AttentionCell/Lambda/W_lambda, RNN/AttentionCell/Lambda/b_lambda, RNN/AttentionCell/fully_connected/biases, RNN/AttentionCell/fully_connected/weights, RNN/AttentionCell/multi_rnn_cell/cell_0/basic_lstm_cell/bias, RNN/AttentionCell/multi_rnn_cell/cell_0/basic_lstm_cell/kernel, embedding, softmax_b, softmax_w)]]",
      "\nDuring handling of the above exception, another exception occurred:\n",
      "\u001b[1;31mNotFoundError\u001b[0m                             Traceback (most recent call last)",
      "\u001b[1;32mD:\\python3_5anaconda\\lib\\site-packages\\tensorflow\\python\\training\\saver.py\u001b[0m in \u001b[0;36msave\u001b[1;34m(self, sess, save_path, global_step, latest_filename, meta_graph_suffix, write_meta_graph, write_state)\u001b[0m\n\u001b[0;32m   1471\u001b[0m             \u001b[0mself\u001b[0m\u001b[1;33m.\u001b[0m\u001b[0msaver_def\u001b[0m\u001b[1;33m.\u001b[0m\u001b[0msave_tensor_name\u001b[0m\u001b[1;33m,\u001b[0m\u001b[1;33m\u001b[0m\u001b[0m\n\u001b[1;32m-> 1472\u001b[1;33m             {self.saver_def.filename_tensor_name: checkpoint_file})\n\u001b[0m\u001b[0;32m   1473\u001b[0m         \u001b[0mmodel_checkpoint_path\u001b[0m \u001b[1;33m=\u001b[0m \u001b[0mcompat\u001b[0m\u001b[1;33m.\u001b[0m\u001b[0mas_str\u001b[0m\u001b[1;33m(\u001b[0m\u001b[0mmodel_checkpoint_path\u001b[0m\u001b[1;33m)\u001b[0m\u001b[1;33m\u001b[0m\u001b[0m\n",
      "\u001b[1;32mD:\\python3_5anaconda\\lib\\site-packages\\tensorflow\\python\\client\\session.py\u001b[0m in \u001b[0;36mrun\u001b[1;34m(self, fetches, feed_dict, options, run_metadata)\u001b[0m\n\u001b[0;32m    788\u001b[0m       result = self._run(None, fetches, feed_dict, options_ptr,\n\u001b[1;32m--> 789\u001b[1;33m                          run_metadata_ptr)\n\u001b[0m\u001b[0;32m    790\u001b[0m       \u001b[1;32mif\u001b[0m \u001b[0mrun_metadata\u001b[0m\u001b[1;33m:\u001b[0m\u001b[1;33m\u001b[0m\u001b[0m\n",
      "\u001b[1;32mD:\\python3_5anaconda\\lib\\site-packages\\tensorflow\\python\\client\\session.py\u001b[0m in \u001b[0;36m_run\u001b[1;34m(self, handle, fetches, feed_dict, options, run_metadata)\u001b[0m\n\u001b[0;32m    996\u001b[0m       results = self._do_run(handle, final_targets, final_fetches,\n\u001b[1;32m--> 997\u001b[1;33m                              feed_dict_string, options, run_metadata)\n\u001b[0m\u001b[0;32m    998\u001b[0m     \u001b[1;32melse\u001b[0m\u001b[1;33m:\u001b[0m\u001b[1;33m\u001b[0m\u001b[0m\n",
      "\u001b[1;32mD:\\python3_5anaconda\\lib\\site-packages\\tensorflow\\python\\client\\session.py\u001b[0m in \u001b[0;36m_do_run\u001b[1;34m(self, handle, target_list, fetch_list, feed_dict, options, run_metadata)\u001b[0m\n\u001b[0;32m   1131\u001b[0m       return self._do_call(_run_fn, self._session, feed_dict, fetch_list,\n\u001b[1;32m-> 1132\u001b[1;33m                            target_list, options, run_metadata)\n\u001b[0m\u001b[0;32m   1133\u001b[0m     \u001b[1;32melse\u001b[0m\u001b[1;33m:\u001b[0m\u001b[1;33m\u001b[0m\u001b[0m\n",
      "\u001b[1;32mD:\\python3_5anaconda\\lib\\site-packages\\tensorflow\\python\\client\\session.py\u001b[0m in \u001b[0;36m_do_call\u001b[1;34m(self, fn, *args)\u001b[0m\n\u001b[0;32m   1151\u001b[0m           \u001b[1;32mpass\u001b[0m\u001b[1;33m\u001b[0m\u001b[0m\n\u001b[1;32m-> 1152\u001b[1;33m       \u001b[1;32mraise\u001b[0m \u001b[0mtype\u001b[0m\u001b[1;33m(\u001b[0m\u001b[0me\u001b[0m\u001b[1;33m)\u001b[0m\u001b[1;33m(\u001b[0m\u001b[0mnode_def\u001b[0m\u001b[1;33m,\u001b[0m \u001b[0mop\u001b[0m\u001b[1;33m,\u001b[0m \u001b[0mmessage\u001b[0m\u001b[1;33m)\u001b[0m\u001b[1;33m\u001b[0m\u001b[0m\n\u001b[0m\u001b[0;32m   1153\u001b[0m \u001b[1;33m\u001b[0m\u001b[0m\n",
      "\u001b[1;31mNotFoundError\u001b[0m: Failed to create a directory: ./model\\2017-07-20--17-21--142309\n\t [[Node: save/SaveV2 = SaveV2[dtypes=[DT_FLOAT, DT_FLOAT, DT_FLOAT, DT_FLOAT, DT_FLOAT, DT_FLOAT, DT_FLOAT, DT_FLOAT, DT_FLOAT, DT_FLOAT, DT_FLOAT, DT_FLOAT, DT_FLOAT, DT_FLOAT, DT_FLOAT, DT_FLOAT, DT_FLOAT, DT_FLOAT, DT_FLOAT, DT_FLOAT, DT_FLOAT, DT_FLOAT, DT_FLOAT, DT_FLOAT, DT_FLOAT, DT_FLOAT, DT_FLOAT, DT_FLOAT, DT_FLOAT, DT_FLOAT, DT_FLOAT, DT_FLOAT, DT_FLOAT, DT_FLOAT, DT_FLOAT, DT_FLOAT, DT_FLOAT, DT_FLOAT, DT_FLOAT, DT_FLOAT, DT_FLOAT, DT_FLOAT, DT_FLOAT, DT_FLOAT], _device=\"/job:localhost/replica:0/task:0/cpu:0\"](_arg_save/Const_0_0, save/SaveV2/tensor_names, save/SaveV2/shape_and_slices, RNN/AttentionCell/Attention0/fully_connected/biases, RNN/AttentionCell/Attention0/fully_connected/weights, RNN/AttentionCell/Attention0/fully_connected_1/biases, RNN/AttentionCell/Attention0/fully_connected_1/weights, RNN/AttentionCell/Attention0/fully_connected_2/biases, RNN/AttentionCell/Attention0/fully_connected_2/weights, RNN/AttentionCell/Attention0/w, RNN/AttentionCell/Attention1/fully_connected/biases, RNN/AttentionCell/Attention1/fully_connected/weights, RNN/AttentionCell/Attention1/fully_connected_1/biases, RNN/AttentionCell/Attention1/fully_connected_1/weights, RNN/AttentionCell/Attention1/fully_connected_2/biases, RNN/AttentionCell/Attention1/fully_connected_2/weights, RNN/AttentionCell/Attention1/w, RNN/AttentionCell/Attention2/fully_connected/biases, RNN/AttentionCell/Attention2/fully_connected/weights, RNN/AttentionCell/Attention2/fully_connected_1/biases, RNN/AttentionCell/Attention2/fully_connected_1/weights, RNN/AttentionCell/Attention2/fully_connected_2/biases, RNN/AttentionCell/Attention2/fully_connected_2/weights, RNN/AttentionCell/Attention2/w, RNN/AttentionCell/Attention3/fully_connected/biases, RNN/AttentionCell/Attention3/fully_connected/weights, RNN/AttentionCell/Attention3/fully_connected_1/biases, RNN/AttentionCell/Attention3/fully_connected_1/weights, RNN/AttentionCell/Attention3/fully_connected_2/biases, RNN/AttentionCell/Attention3/fully_connected_2/weights, RNN/AttentionCell/Attention3/w, RNN/AttentionCell/Attention4/fully_connected/biases, RNN/AttentionCell/Attention4/fully_connected/weights, RNN/AttentionCell/Attention4/fully_connected_1/biases, RNN/AttentionCell/Attention4/fully_connected_1/weights, RNN/AttentionCell/Attention4/fully_connected_2/biases, RNN/AttentionCell/Attention4/fully_connected_2/weights, RNN/AttentionCell/Attention4/w, RNN/AttentionCell/Lambda/W_lambda, RNN/AttentionCell/Lambda/b_lambda, RNN/AttentionCell/fully_connected/biases, RNN/AttentionCell/fully_connected/weights, RNN/AttentionCell/multi_rnn_cell/cell_0/basic_lstm_cell/bias, RNN/AttentionCell/multi_rnn_cell/cell_0/basic_lstm_cell/kernel, embedding, softmax_b, softmax_w)]]\n\nCaused by op 'save/SaveV2', defined at:\n  File \"D:\\python3_5anaconda\\lib\\runpy.py\", line 193, in _run_module_as_main\n    \"__main__\", mod_spec)\n  File \"D:\\python3_5anaconda\\lib\\runpy.py\", line 85, in _run_code\n    exec(code, run_globals)\n  File \"D:\\python3_5anaconda\\lib\\site-packages\\ipykernel_launcher.py\", line 16, in <module>\n    app.launch_new_instance()\n  File \"D:\\python3_5anaconda\\lib\\site-packages\\traitlets\\config\\application.py\", line 658, in launch_instance\n    app.start()\n  File \"D:\\python3_5anaconda\\lib\\site-packages\\ipykernel\\kernelapp.py\", line 477, in start\n    ioloop.IOLoop.instance().start()\n  File \"D:\\python3_5anaconda\\lib\\site-packages\\zmq\\eventloop\\ioloop.py\", line 177, in start\n    super(ZMQIOLoop, self).start()\n  File \"D:\\python3_5anaconda\\lib\\site-packages\\tornado\\ioloop.py\", line 888, in start\n    handler_func(fd_obj, events)\n  File \"D:\\python3_5anaconda\\lib\\site-packages\\tornado\\stack_context.py\", line 277, in null_wrapper\n    return fn(*args, **kwargs)\n  File \"D:\\python3_5anaconda\\lib\\site-packages\\zmq\\eventloop\\zmqstream.py\", line 440, in _handle_events\n    self._handle_recv()\n  File \"D:\\python3_5anaconda\\lib\\site-packages\\zmq\\eventloop\\zmqstream.py\", line 472, in _handle_recv\n    self._run_callback(callback, msg)\n  File \"D:\\python3_5anaconda\\lib\\site-packages\\zmq\\eventloop\\zmqstream.py\", line 414, in _run_callback\n    callback(*args, **kwargs)\n  File \"D:\\python3_5anaconda\\lib\\site-packages\\tornado\\stack_context.py\", line 277, in null_wrapper\n    return fn(*args, **kwargs)\n  File \"D:\\python3_5anaconda\\lib\\site-packages\\ipykernel\\kernelbase.py\", line 283, in dispatcher\n    return self.dispatch_shell(stream, msg)\n  File \"D:\\python3_5anaconda\\lib\\site-packages\\ipykernel\\kernelbase.py\", line 235, in dispatch_shell\n    handler(stream, idents, msg)\n  File \"D:\\python3_5anaconda\\lib\\site-packages\\ipykernel\\kernelbase.py\", line 399, in execute_request\n    user_expressions, allow_stdin)\n  File \"D:\\python3_5anaconda\\lib\\site-packages\\ipykernel\\ipkernel.py\", line 196, in do_execute\n    res = shell.run_cell(code, store_history=store_history, silent=silent)\n  File \"D:\\python3_5anaconda\\lib\\site-packages\\ipykernel\\zmqshell.py\", line 533, in run_cell\n    return super(ZMQInteractiveShell, self).run_cell(*args, **kwargs)\n  File \"D:\\python3_5anaconda\\lib\\site-packages\\IPython\\core\\interactiveshell.py\", line 2698, in run_cell\n    interactivity=interactivity, compiler=compiler, result=result)\n  File \"D:\\python3_5anaconda\\lib\\site-packages\\IPython\\core\\interactiveshell.py\", line 2802, in run_ast_nodes\n    if self.run_code(code, result):\n  File \"D:\\python3_5anaconda\\lib\\site-packages\\IPython\\core\\interactiveshell.py\", line 2862, in run_code\n    exec(code_obj, self.user_global_ns, self.user_ns)\n  File \"<ipython-input-10-6e092ab88e9f>\", line 27, in <module>\n    saver = tf.train.Saver(tf.trainable_variables())\n  File \"D:\\python3_5anaconda\\lib\\site-packages\\tensorflow\\python\\training\\saver.py\", line 1139, in __init__\n    self.build()\n  File \"D:\\python3_5anaconda\\lib\\site-packages\\tensorflow\\python\\training\\saver.py\", line 1170, in build\n    restore_sequentially=self._restore_sequentially)\n  File \"D:\\python3_5anaconda\\lib\\site-packages\\tensorflow\\python\\training\\saver.py\", line 689, in build\n    save_tensor = self._AddSaveOps(filename_tensor, saveables)\n  File \"D:\\python3_5anaconda\\lib\\site-packages\\tensorflow\\python\\training\\saver.py\", line 276, in _AddSaveOps\n    save = self.save_op(filename_tensor, saveables)\n  File \"D:\\python3_5anaconda\\lib\\site-packages\\tensorflow\\python\\training\\saver.py\", line 219, in save_op\n    tensors)\n  File \"D:\\python3_5anaconda\\lib\\site-packages\\tensorflow\\python\\ops\\gen_io_ops.py\", line 745, in save_v2\n    tensors=tensors, name=name)\n  File \"D:\\python3_5anaconda\\lib\\site-packages\\tensorflow\\python\\framework\\op_def_library.py\", line 767, in apply_op\n    op_def=op_def)\n  File \"D:\\python3_5anaconda\\lib\\site-packages\\tensorflow\\python\\framework\\ops.py\", line 2506, in create_op\n    original_op=self._default_original_op, op_def=op_def)\n  File \"D:\\python3_5anaconda\\lib\\site-packages\\tensorflow\\python\\framework\\ops.py\", line 1269, in __init__\n    self._traceback = _extract_stack()\n\nNotFoundError (see above for traceback): Failed to create a directory: ./model\\2017-07-20--17-21--142309\n\t [[Node: save/SaveV2 = SaveV2[dtypes=[DT_FLOAT, DT_FLOAT, DT_FLOAT, DT_FLOAT, DT_FLOAT, DT_FLOAT, DT_FLOAT, DT_FLOAT, DT_FLOAT, DT_FLOAT, DT_FLOAT, DT_FLOAT, DT_FLOAT, DT_FLOAT, DT_FLOAT, DT_FLOAT, DT_FLOAT, DT_FLOAT, DT_FLOAT, DT_FLOAT, DT_FLOAT, DT_FLOAT, DT_FLOAT, DT_FLOAT, DT_FLOAT, DT_FLOAT, DT_FLOAT, DT_FLOAT, DT_FLOAT, DT_FLOAT, DT_FLOAT, DT_FLOAT, DT_FLOAT, DT_FLOAT, DT_FLOAT, DT_FLOAT, DT_FLOAT, DT_FLOAT, DT_FLOAT, DT_FLOAT, DT_FLOAT, DT_FLOAT, DT_FLOAT, DT_FLOAT], _device=\"/job:localhost/replica:0/task:0/cpu:0\"](_arg_save/Const_0_0, save/SaveV2/tensor_names, save/SaveV2/shape_and_slices, RNN/AttentionCell/Attention0/fully_connected/biases, RNN/AttentionCell/Attention0/fully_connected/weights, RNN/AttentionCell/Attention0/fully_connected_1/biases, RNN/AttentionCell/Attention0/fully_connected_1/weights, RNN/AttentionCell/Attention0/fully_connected_2/biases, RNN/AttentionCell/Attention0/fully_connected_2/weights, RNN/AttentionCell/Attention0/w, RNN/AttentionCell/Attention1/fully_connected/biases, RNN/AttentionCell/Attention1/fully_connected/weights, RNN/AttentionCell/Attention1/fully_connected_1/biases, RNN/AttentionCell/Attention1/fully_connected_1/weights, RNN/AttentionCell/Attention1/fully_connected_2/biases, RNN/AttentionCell/Attention1/fully_connected_2/weights, RNN/AttentionCell/Attention1/w, RNN/AttentionCell/Attention2/fully_connected/biases, RNN/AttentionCell/Attention2/fully_connected/weights, RNN/AttentionCell/Attention2/fully_connected_1/biases, RNN/AttentionCell/Attention2/fully_connected_1/weights, RNN/AttentionCell/Attention2/fully_connected_2/biases, RNN/AttentionCell/Attention2/fully_connected_2/weights, RNN/AttentionCell/Attention2/w, RNN/AttentionCell/Attention3/fully_connected/biases, RNN/AttentionCell/Attention3/fully_connected/weights, RNN/AttentionCell/Attention3/fully_connected_1/biases, RNN/AttentionCell/Attention3/fully_connected_1/weights, RNN/AttentionCell/Attention3/fully_connected_2/biases, RNN/AttentionCell/Attention3/fully_connected_2/weights, RNN/AttentionCell/Attention3/w, RNN/AttentionCell/Attention4/fully_connected/biases, RNN/AttentionCell/Attention4/fully_connected/weights, RNN/AttentionCell/Attention4/fully_connected_1/biases, RNN/AttentionCell/Attention4/fully_connected_1/weights, RNN/AttentionCell/Attention4/fully_connected_2/biases, RNN/AttentionCell/Attention4/fully_connected_2/weights, RNN/AttentionCell/Attention4/w, RNN/AttentionCell/Lambda/W_lambda, RNN/AttentionCell/Lambda/b_lambda, RNN/AttentionCell/fully_connected/biases, RNN/AttentionCell/fully_connected/weights, RNN/AttentionCell/multi_rnn_cell/cell_0/basic_lstm_cell/bias, RNN/AttentionCell/multi_rnn_cell/cell_0/basic_lstm_cell/kernel, embedding, softmax_b, softmax_w)]]\n",
      "\nDuring handling of the above exception, another exception occurred:\n",
      "\u001b[1;31mValueError\u001b[0m                                Traceback (most recent call last)",
      "\u001b[1;32m<ipython-input-10-6e092ab88e9f>\u001b[0m in \u001b[0;36m<module>\u001b[1;34m()\u001b[0m\n\u001b[0;32m     51\u001b[0m         \u001b[0mmodel_path\u001b[0m \u001b[1;33m=\u001b[0m \u001b[1;34m'./model'\u001b[0m\u001b[1;33m\u001b[0m\u001b[0m\n\u001b[0;32m     52\u001b[0m         \u001b[0mout_path\u001b[0m \u001b[1;33m=\u001b[0m \u001b[0mos\u001b[0m\u001b[1;33m.\u001b[0m\u001b[0mpath\u001b[0m\u001b[1;33m.\u001b[0m\u001b[0mjoin\u001b[0m\u001b[1;33m(\u001b[0m\u001b[0mmodel_path\u001b[0m\u001b[1;33m,\u001b[0m \u001b[0mnow\u001b[0m \u001b[1;33m+\u001b[0m \u001b[1;34m\"/\"\u001b[0m\u001b[1;33m)\u001b[0m\u001b[1;33m\u001b[0m\u001b[0m\n\u001b[1;32m---> 53\u001b[1;33m         \u001b[0msaver\u001b[0m\u001b[1;33m.\u001b[0m\u001b[0msave\u001b[0m\u001b[1;33m(\u001b[0m\u001b[0msession\u001b[0m\u001b[1;33m,\u001b[0m \u001b[0mos\u001b[0m\u001b[1;33m.\u001b[0m\u001b[0mpath\u001b[0m\u001b[1;33m.\u001b[0m\u001b[0mjoin\u001b[0m\u001b[1;33m(\u001b[0m\u001b[0mout_path\u001b[0m\u001b[1;33m,\u001b[0m \u001b[1;34m\"model.tf\"\u001b[0m\u001b[1;33m)\u001b[0m\u001b[1;33m)\u001b[0m\u001b[1;33m\u001b[0m\u001b[0m\n\u001b[0m",
      "\u001b[1;32mD:\\python3_5anaconda\\lib\\site-packages\\tensorflow\\python\\training\\saver.py\u001b[0m in \u001b[0;36msave\u001b[1;34m(self, sess, save_path, global_step, latest_filename, meta_graph_suffix, write_meta_graph, write_state)\u001b[0m\n\u001b[0;32m   1486\u001b[0m               \"Parent directory of {} doesn't exist, can't save.\".format(\n\u001b[0;32m   1487\u001b[0m                   save_path))\n\u001b[1;32m-> 1488\u001b[1;33m         \u001b[1;32mraise\u001b[0m \u001b[0mexc\u001b[0m\u001b[1;33m\u001b[0m\u001b[0m\n\u001b[0m\u001b[0;32m   1489\u001b[0m \u001b[1;33m\u001b[0m\u001b[0m\n\u001b[0;32m   1490\u001b[0m     \u001b[1;32mif\u001b[0m \u001b[0mwrite_meta_graph\u001b[0m\u001b[1;33m:\u001b[0m\u001b[1;33m\u001b[0m\u001b[0m\n",
      "\u001b[1;31mValueError\u001b[0m: Parent directory of ./model\\2017-07-20--17-21--142309/model.tf doesn't exist, can't save."
     ]
    }
   ],
   "source": [
    "with tf.Graph().as_default(), tf.Session() as session:\n",
    "    masks_ = tf.placeholder(tf.bool, [seq_length, batch_size, attention_num], name=\"masks\")\n",
    "    input_data_ = tf.placeholder(tf.int32, [seq_length, batch_size], name=\"inputs\")\n",
    "    targets_ = tf.placeholder(tf.float32, [seq_length, batch_size], name=\"targets\")\n",
    "    \n",
    "    a = AttentionModel(input_data=input_data_,\n",
    "                                 targets=targets_,\n",
    "                                 masks=masks_,\n",
    "                                 is_training=True,\n",
    "                                 attention_num= attention_num,\n",
    "                                 batch_size=batch_size,\n",
    "                                 hidden_size=hidden_size,\n",
    "                                 num_samples=num_samples,\n",
    "                                 seq_length=seq_length,\n",
    "                                 vocab_size=vocab_size,\n",
    "                                 lambda_type=lambda_type,\n",
    "                                 max_attention=max_attention)\n",
    "    \n",
    "    session.run(tf.global_variables_initializer())\n",
    "    loss = a.loss\n",
    "    train = a.train_op \n",
    "    evals = [loss, train]\n",
    "    evals = get_evals(evals=evals, model=a)\n",
    "    state, att_states, att_ids, att_counts = get_initial_state(a, session)\n",
    "    lr = learning_rate\n",
    "    a.assign_lr(session, lr)\n",
    "    saver = tf.train.Saver(tf.trainable_variables())\n",
    "#     saver.restore(session, './model/2017-07-04--13-06--217855/model.tf')\n",
    "    batcher = Batcher([current_file], batch_size, seq_length)\n",
    "    \n",
    "    for epoch in range(epochs):\n",
    "        start_epoch_time = time.time()\n",
    "        for batch in batcher:\n",
    "            \n",
    "            total_loss = 0\n",
    "            total_length = 0\n",
    "                \n",
    "            for feed_data in batcher.sequence_iterator(batch):\n",
    "\n",
    "                feed_dict, identifiers_usage = construct_feed_dict(a, feed_data, state, att_states, att_ids, att_counts)\n",
    "                results = session.run(evals, feed_dict= feed_dict)\n",
    "\n",
    "                results, state, att_states, att_ids, alpha_states, att_counts, lambda_state= extract_results(results,evals, 2,a)\n",
    "                \n",
    "                total_loss += sum(results[0])\n",
    "                total_length += sum(feed_dict[a._actual_lengths])\n",
    "        end_epoch_time = time.time()\n",
    "        print('perplexity ', np.exp(total_loss/total_length), 'epoch ', epoch, ' ',end_epoch_time-start_epoch_time)\n",
    "        \n",
    "        now = datetime.datetime.now().strftime(\"%Y-%m-%d--%H-%M--%f\")\n",
    "        model_path = './model'\n",
    "        out_path = os.path.join(model_path, now + \"/\")\n",
    "        saver.save(session, os.path.join(out_path, \"model.tf\"))"
   ]
  }
 ],
 "metadata": {
  "anaconda-cloud": {},
  "kernelspec": {
   "display_name": "Python 3",
   "language": "python",
   "name": "python3"
  },
  "language_info": {
   "codemirror_mode": {
    "name": "ipython",
    "version": 3
   },
   "file_extension": ".py",
   "mimetype": "text/x-python",
   "name": "python",
   "nbconvert_exporter": "python",
   "pygments_lexer": "ipython3",
   "version": "3.6.1"
  }
 },
 "nbformat": 4,
 "nbformat_minor": 2
}
