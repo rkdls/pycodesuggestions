{
 "cells": [
  {
   "cell_type": "markdown",
   "metadata": {
    "collapsed": true
   },
   "source": [
    "### statically-typed language : java,C, C++\n",
    " 컴파일시에 에러가 검출된다. 타입구분이 명확한것들을 정적타입 랭귀지 라함.\n",
    " \n",
    "### dynamic-typed language : python, javascript, Ruby... \n",
    " 인터프리터 언어라고도한다. 타입에 딱히 신경쓰지않아도 개발이가능하며 개발속도 기본적으로 빠르다.\n",
    " \n",
    "IDE에서 statical language 는 코드 suggestion이 잘 적용되지만, python같은 dynamic language 는 지원이 상대적으로 부족하다."
   ]
  },
  {
   "cell_type": "code",
   "execution_count": 1,
   "metadata": {},
   "outputs": [],
   "source": [
    "import tensorflow as tf\n",
    "import pickle\n",
    "import os\n",
    "import shutil\n",
    "import tempfile\n",
    "import datetime\n",
    "from glob import iglob\n",
    "import time\n",
    "# import attention\n",
    "from collections import deque\n",
    "import pickle\n",
    "import pyreader\n",
    "import numpy as np\n",
    "from attention import Batcher, construct_feed_dict, extract_results, get_evals,AttentionModel,get_initial_state"
   ]
  },
  {
   "cell_type": "code",
   "execution_count": 2,
   "metadata": {
    "collapsed": true
   },
   "outputs": [],
   "source": [
    "data= 'data_samples/'\n",
    "data_path='data_samples/mapping.map'\n",
    "# pattern = 'preprocess.part*'\n",
    "pattern = 'output.txt.part*'\n",
    "hidden_size = 50\n",
    "seq_length = 10\n",
    "batch_size = 16\n",
    "epochs=10\n",
    "with open(data_path, \"rb\") as f:\n",
    "    word_to_id = pickle.load(f)\n",
    "vocab_size = len(word_to_id)\n",
    "num_samples = 3\n",
    "attention_num=5\n",
    "max_attention=3\n",
    "lambda_type='state'\n",
    "keep_prob=0.9\n",
    "num_layer=1\n",
    "max_grad_norm=3\n",
    "learning_rate = 0.1\n",
    "# files = [y for x in os.walk(data) for y in iglob(os.path.join(x[0], pattern))]"
   ]
  },
  {
   "cell_type": "markdown",
   "metadata": {},
   "source": [
    "### 전처리를 다음과같이 한다.\n",
    "\n",
    "#### 변수명:번호 인데 아래와 같이 나온다."
   ]
  },
  {
   "cell_type": "code",
   "execution_count": 3,
   "metadata": {},
   "outputs": [
    {
     "name": "stdout",
     "output_type": "stream",
     "text": [
      "./data_samples/output.txt.part0\n",
      "2515\n"
     ]
    }
   ],
   "source": [
    "current_file = './data_samples/output.txt.part0'\n",
    "with open(current_file, 'rb') as f:\n",
    "    current_data = pickle.load(f)\n",
    "    print(current_file)\n",
    "    print(len(current_data))"
   ]
  },
  {
   "cell_type": "code",
   "execution_count": 4,
   "metadata": {},
   "outputs": [
    {
     "data": {
      "text/plain": [
       "array([2, 0, 0, 0, 0, 0, 0, 0, 0, 0], dtype=int64)"
      ]
     },
     "execution_count": 4,
     "metadata": {},
     "output_type": "execute_result"
    }
   ],
   "source": [
    "current_data[1].inputs[0]"
   ]
  },
  {
   "cell_type": "code",
   "execution_count": 5,
   "metadata": {},
   "outputs": [
    {
     "data": {
      "text/plain": [
       "[0]"
      ]
     },
     "execution_count": 5,
     "metadata": {},
     "output_type": "execute_result"
    }
   ],
   "source": [
    "current_data[1].actual_lengths"
   ]
  },
  {
   "cell_type": "markdown",
   "metadata": {},
   "source": [
    "### 예를들어 파일한개를 돌려보면.."
   ]
  },
  {
   "cell_type": "code",
   "execution_count": 6,
   "metadata": {},
   "outputs": [
    {
     "data": {
      "text/plain": [
       "'§<indent>§'"
      ]
     },
     "execution_count": 6,
     "metadata": {},
     "output_type": "execute_result"
    }
   ],
   "source": [
    "inv_map = {v: k for k, v in word_to_id.items()} # 아이디값:변수명 으로 reverse시킴.\n",
    "inv_map[38]\n",
    "inv_map[10]"
   ]
  },
  {
   "cell_type": "code",
   "execution_count": 7,
   "metadata": {},
   "outputs": [
    {
     "name": "stdout",
     "output_type": "stream",
     "text": [
      "import datetime \n",
      " import json \n",
      " import os \n",
      " import\n",
      "23 ==\n"
     ]
    }
   ],
   "source": [
    "\n",
    "for i in range(len(current_data)):\n",
    "    inputs_raw = [inv_map[k] for k in current_data[i].inputs[0]]\n",
    "#     inputs_raw = [inv_map[k] for k in current_data[i].identifier_usage[0]]\n",
    "#     inputs_raw = [k for k in current_data[i].masks]\n",
    "    inputs_raw= ' '.join(inputs_raw)\n",
    "    targets_raw = [inv_map[k] for k in current_data[i].targets[0]]\n",
    "    targets_raws = ' '.join(targets_raw)\n",
    "print(inputs_raw)\n",
    "print(word_to_id['class'],inv_map[56])"
   ]
  },
  {
   "cell_type": "markdown",
   "metadata": {},
   "source": [
    "### 위와같이 normalise + indent와 패딩, out of vocabulary의 값들이  나온다.\n",
    "\n",
    "### 실제로 집어넣을 값들은 숫자로 feeding한다."
   ]
  },
  {
   "cell_type": "code",
   "execution_count": 8,
   "metadata": {},
   "outputs": [
    {
     "data": {
      "text/plain": [
       "array([ 20,  37,   2,  20, 325,   2,  20,  59,   2,  20], dtype=int64)"
      ]
     },
     "execution_count": 8,
     "metadata": {},
     "output_type": "execute_result"
    }
   ],
   "source": [
    "current_data[i].inputs[0]"
   ]
  },
  {
   "cell_type": "markdown",
   "metadata": {},
   "source": [
    "### 위와같이 넣게되어있다."
   ]
  },
  {
   "cell_type": "code",
   "execution_count": 9,
   "metadata": {
    "scrolled": true
   },
   "outputs": [
    {
     "name": "stdout",
     "output_type": "stream",
     "text": [
      "Constructing Attention Cell\n",
      "Loaded data partition ./data_samples/output.txt.part0 with 2515 examples\n",
      "perplexity  1.00033653822e+13 epoch  0\n",
      "Loaded data partition ./data_samples/output.txt.part0 with 2515 examples\n",
      "perplexity  8.00656730794e+12 epoch  1\n",
      "Loaded data partition ./data_samples/output.txt.part0 with 2515 examples\n",
      "perplexity  7.52665784059e+12 epoch  2\n",
      "Loaded data partition ./data_samples/output.txt.part0 with 2515 examples\n",
      "perplexity  7.28282457594e+12 epoch  3\n",
      "Loaded data partition ./data_samples/output.txt.part0 with 2515 examples\n",
      "perplexity  7.15005810177e+12 epoch  4\n",
      "Loaded data partition ./data_samples/output.txt.part0 with 2515 examples\n",
      "perplexity  7.00907573717e+12 epoch  5\n",
      "Loaded data partition ./data_samples/output.txt.part0 with 2515 examples\n",
      "perplexity  6.94049814005e+12 epoch  6\n",
      "Loaded data partition ./data_samples/output.txt.part0 with 2515 examples\n",
      "perplexity  6.84877956337e+12 epoch  7\n",
      "Loaded data partition ./data_samples/output.txt.part0 with 2515 examples\n",
      "perplexity  6.81967334388e+12 epoch  8\n",
      "Loaded data partition ./data_samples/output.txt.part0 with 2515 examples\n",
      "perplexity  6.77420511132e+12 epoch  9\n"
     ]
    }
   ],
   "source": [
    "with tf.Graph().as_default(), tf.Session() as session:\n",
    "    masks_ = tf.placeholder(tf.bool, [seq_length, batch_size, 1], name=\"masks\")\n",
    "    input_data_ = tf.placeholder(tf.int32, [seq_length, batch_size], name=\"inputs\")\n",
    "    targets_ = tf.placeholder(tf.float32, [seq_length, batch_size], name=\"targets\")\n",
    "    \n",
    "    a = AttentionModel(input_data=input_data_,\n",
    "                                 targets=targets_,\n",
    "                                 masks=masks_,\n",
    "                                 is_training=True,\n",
    "                                 attention_num= 1,\n",
    "                                 batch_size=batch_size,\n",
    "                                 hidden_size=hidden_size,\n",
    "                                 num_samples=num_samples,\n",
    "                                 seq_length=seq_length,\n",
    "                                 vocab_size=vocab_size,\n",
    "                                 lambda_type=lambda_type,\n",
    "                                 max_attention=max_attention)\n",
    "    \n",
    "    session.run(tf.global_variables_initializer())\n",
    "    loss = a.loss\n",
    "    train = a.train_op \n",
    "    evals = [loss, train]\n",
    "    evals = get_evals(evals=evals, model=a)\n",
    "    state, att_states, att_ids, att_counts = get_initial_state(a, session)\n",
    "    lr = learning_rate\n",
    "    a.assign_lr(session, lr)\n",
    "    \n",
    "    batcher = Batcher([current_file], batch_size, seq_length)\n",
    "    for epoch in range(epochs):\n",
    "        \n",
    "        for batch in batcher:\n",
    "            \n",
    "            total_loss = 0\n",
    "            total_length = 0\n",
    "                \n",
    "            for feed_data in batcher.sequence_iterator(batch):\n",
    "\n",
    "                feed_dict, identifiers_usage = construct_feed_dict(a, feed_data, state, att_states, att_ids, att_counts)\n",
    "                results = session.run(evals, feed_dict= feed_dict)\n",
    "\n",
    "                results, state, att_states, att_ids, alpha_states, att_counts, lambda_state= extract_results(results,evals, 2,a)\n",
    "                \n",
    "                total_loss += sum(results[0])\n",
    "                total_length += sum(feed_dict[a._actual_lengths])\n",
    "        print('perplexity ', np.exp(total_loss/total_length), 'epoch ', epoch)\n",
    "        saver = tf.train.Saver(tf.trainable_variables())\n",
    "        now = datetime.datetime.now().strftime(\"%Y-%m-%d--%H-%M--%f\")\n",
    "        model_path = './model'\n",
    "        out_path = os.path.join(model_path, now + \"/\")\n",
    "        saver.save(session, os.path.join(out_path, \"model.tf\"))"
   ]
  },
  {
   "cell_type": "code",
   "execution_count": null,
   "metadata": {
    "collapsed": true
   },
   "outputs": [],
   "source": []
  }
 ],
 "metadata": {
  "anaconda-cloud": {},
  "kernelspec": {
   "display_name": "Python [conda root]",
   "language": "python",
   "name": "conda-root-py"
  },
  "language_info": {
   "codemirror_mode": {
    "name": "ipython",
    "version": 3
   },
   "file_extension": ".py",
   "mimetype": "text/x-python",
   "name": "python",
   "nbconvert_exporter": "python",
   "pygments_lexer": "ipython3",
   "version": "3.6.1"
  }
 },
 "nbformat": 4,
 "nbformat_minor": 2
}
